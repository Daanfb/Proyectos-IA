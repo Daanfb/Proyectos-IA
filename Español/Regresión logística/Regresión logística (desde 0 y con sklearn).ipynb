{
 "cells": [
  {
   "cell_type": "markdown",
   "id": "99674c6d",
   "metadata": {},
   "source": [
    "# Importación de librerias"
   ]
  },
  {
   "cell_type": "code",
   "execution_count": 1,
   "id": "0d62966e",
   "metadata": {},
   "outputs": [],
   "source": [
    "import numpy as np\n",
    "import h5py\n",
    "import matplotlib.pyplot as plt\n",
    "import copy"
   ]
  },
  {
   "cell_type": "markdown",
   "id": "2f84630b",
   "metadata": {},
   "source": [
    "# Dataset"
   ]
  },
  {
   "cell_type": "code",
   "execution_count": 2,
   "id": "d6ba8b0e",
   "metadata": {},
   "outputs": [],
   "source": [
    "def cargar_dataset():\n",
    "    \"\"\"\n",
    "    Carga el dataset contenido en un fichero .h5\n",
    "    \n",
    "    Devuelve:\n",
    "    - train_set_x_orig (numpy.ndarray): Conjunto de entrenamiento X\n",
    "    - train_set_y_orig (numpy.ndarray): Conjunto de entrenamiento Y\n",
    "    - test_set_x_orig (numpy.ndarray): Conjunto de test X\n",
    "    - test_set_y_orig (numpy.ndarray): Conjunto de test Y\n",
    "    - classes (numpy.ndarray) = Conjunto de clases\n",
    "    \"\"\"\n",
    "    \n",
    "    train_dataset = h5py.File('dataset/train_happy.h5', 'r')\n",
    "    train_set_x_orig = np.array(train_dataset['train_set_x'][:])\n",
    "    train_set_y_orig = np.array(train_dataset['train_set_y'][:])\n",
    "    classes = np.array(train_dataset['list_classes'][:])\n",
    "    \n",
    "    test_dataset = h5py.File('dataset/test_happy.h5', 'r')\n",
    "    test_set_x_orig = np.array(test_dataset['test_set_x'][:])\n",
    "    test_set_y_orig = np.array(test_dataset['test_set_y'][:])\n",
    "    \n",
    "    train_set_y_orig = train_set_y_orig.reshape((1,-1))\n",
    "    test_set_y_orig = test_set_y_orig.reshape((1, -1))\n",
    "    \n",
    "    return train_set_x_orig, train_set_y_orig, test_set_x_orig, test_set_y_orig, classes"
   ]
  },
  {
   "cell_type": "code",
   "execution_count": 3,
   "id": "d9552deb",
   "metadata": {},
   "outputs": [],
   "source": [
    "train_set_x_orig, train_set_y, test_set_x_orig, test_set_y, classes = cargar_dataset()"
   ]
  },
  {
   "cell_type": "code",
   "execution_count": 4,
   "id": "5e58381c",
   "metadata": {},
   "outputs": [],
   "source": [
    "def dimensiones():\n",
    "    \"\"\"\n",
    "    Imprime información relativa al dataset cargado anteriormente\n",
    "    \"\"\"\n",
    "    \n",
    "    num_ejemplos_train = train_set_x_orig.shape[0]\n",
    "    num_ejemplos_test = test_set_x_orig.shape[0]\n",
    "    ancho = train_set_x_orig.shape[1]\n",
    "    alto = train_set_x_orig.shape[2]\n",
    "    num_clases = len(classes)\n",
    "    \n",
    "    print(f'Número de ejemplos de entrenamiento: {num_ejemplos_train}')\n",
    "    print(f'Número de ejemplos de test: {num_ejemplos_test}')\n",
    "    print(f'Dimensión de las fotos: {ancho}x{alto}')\n",
    "    print(f'Forma dataset X entrenamiento: {train_set_x_orig.shape}')\n",
    "    print(f'Forma dataset Y entrenamiento: {train_set_y.shape}')\n",
    "    print(f'Forma dataset X test: {test_set_x_orig.shape}')\n",
    "    print(f'Forma dataset Y test: {test_set_y.shape}')\n",
    "    print(f'Número de clases: {num_clases}')\n",
    "    "
   ]
  },
  {
   "cell_type": "code",
   "execution_count": 5,
   "id": "bea75799",
   "metadata": {},
   "outputs": [
    {
     "name": "stdout",
     "output_type": "stream",
     "text": [
      "Número de ejemplos de entrenamiento: 600\n",
      "Número de ejemplos de test: 150\n",
      "Dimensión de las fotos: 64x64\n",
      "Forma dataset X entrenamiento: (600, 64, 64, 3)\n",
      "Forma dataset Y entrenamiento: (1, 600)\n",
      "Forma dataset X test: (150, 64, 64, 3)\n",
      "Forma dataset Y test: (1, 150)\n",
      "Número de clases: 2\n"
     ]
    }
   ],
   "source": [
    "dimensiones()"
   ]
  },
  {
   "cell_type": "code",
   "execution_count": 6,
   "id": "b8af01e6",
   "metadata": {},
   "outputs": [
    {
     "name": "stdout",
     "output_type": "stream",
     "text": [
      "La imagen 80 tiene valor: 1\n"
     ]
    },
    {
     "data": {
      "image/png": "[encoded data removed]",
      "text/plain": [
       "<Figure size 640x480 with 1 Axes>"
      ]
     },
     "metadata": {},
     "output_type": "display_data"
    }
   ],
   "source": [
    "num = 80\n",
    "plt.imshow(train_set_x_orig[num])\n",
    "print(f\"La imagen {num} tiene valor: {train_set_y[0, num]}\")"
   ]
  },
  {
   "cell_type": "markdown",
   "id": "7f4987d1",
   "metadata": {},
   "source": [
    "# Algoritmo (desde 0)"
   ]
  },
  {
   "cell_type": "markdown",
   "id": "97228eef",
   "metadata": {},
   "source": [
    "Convertimos las imagenes en vectores:\n",
    "(px ancho, px alto, 3) -> (px ancho * px alto * 3, 1).\n",
    "\n",
    "Cada columna del dataset representa una imagen."
   ]
  },
  {
   "cell_type": "code",
   "execution_count": 7,
   "id": "d8983005",
   "metadata": {},
   "outputs": [
    {
     "name": "stdout",
     "output_type": "stream",
     "text": [
      "train_set_x_flatten: (12288, 600)\n",
      "test_set_x_flatten: (12288, 150)\n",
      "train_set_y: (1, 600)\n",
      "test_set_y: (1, 150)\n"
     ]
    }
   ],
   "source": [
    "train_set_x_flatten = train_set_x_orig.reshape(train_set_x_orig.shape[0], -1).T\n",
    "test_set_x_flatten = test_set_x_orig.reshape(test_set_x_orig.shape[0], -1).T\n",
    "\n",
    "print(f\"train_set_x_flatten: {train_set_x_flatten.shape}\")\n",
    "print(f\"test_set_x_flatten: {test_set_x_flatten.shape}\")\n",
    "print(f\"train_set_y: {train_set_y.shape}\")\n",
    "print(f\"test_set_y: {test_set_y.shape}\")"
   ]
  },
  {
   "cell_type": "markdown",
   "id": "fc3ece2d",
   "metadata": {},
   "source": [
    "Normalizamos el dataset para que el algoritmo funcione más rápido"
   ]
  },
  {
   "cell_type": "code",
   "execution_count": 8,
   "id": "42527f10",
   "metadata": {},
   "outputs": [],
   "source": [
    "train_set_x = train_set_x_flatten /255.\n",
    "test_set_x = test_set_x_flatten / 255."
   ]
  },
  {
   "cell_type": "markdown",
   "id": "9d31ebd0",
   "metadata": {},
   "source": [
    "## Funciones"
   ]
  },
  {
   "cell_type": "markdown",
   "id": "3ceb5aaf",
   "metadata": {},
   "source": [
    "$sigmoid(z) = \\frac{1}{1 + e^{-z}}$ donde $z = w^T x + b $"
   ]
  },
  {
   "cell_type": "code",
   "execution_count": 9,
   "id": "22a47110",
   "metadata": {},
   "outputs": [],
   "source": [
    "def sigmoid(z):\n",
    "    \"\"\"\n",
    "    Calcula la función sigmoide de z\n",
    "    \n",
    "    Args:\n",
    "    - z: Escalar o array de numpy\n",
    "    \n",
    "    Devuelve:\n",
    "    - s: Función sigmoide de z\n",
    "    \"\"\"\n",
    "    \n",
    "    s = 1/(1+np.exp(-z))\n",
    "    return s"
   ]
  },
  {
   "cell_type": "markdown",
   "id": "0eb22394",
   "metadata": {},
   "source": [
    "La función de coste utilizada será:\n",
    "\n",
    "$$J = -\\frac{1}{m}\\sum_{i=1}^{m}(y^{(i)}\\log(a^{(i)})+(1-y^{(i)})\\log(1-a^{(i)}))$$\n",
    "\n",
    "El objetivo es minimizarla. Para ello, debemos calcular las w y b que hagan mínima la función de coste. Para encontrar dichas variables, se utilizará **descenso de gradiente**. Las derivadas parciales de J respecto de w y b son las siguientes:\n",
    "\n",
    "$$ \\frac{\\partial J}{\\partial w} = \\frac{1}{m}X(A-Y)^T$$\n",
    "$$ \\frac{\\partial J}{\\partial b} = \\frac{1}{m} \\sum_{i=1}^m (a^{(i)}-y^{(i)})$$"
   ]
  },
  {
   "cell_type": "code",
   "execution_count": 10,
   "id": "6a78ec60",
   "metadata": {},
   "outputs": [],
   "source": [
    "def forward_propagation(w, b, X, Y):\n",
    "    \"\"\"\n",
    "    Devuelve el coste y las derivadas parciales de J respecto de w y b\n",
    "    \n",
    "    Args:\n",
    "    - w (numpy.ndarray): Vector de pesos (num_px*num_px*3, 1)\n",
    "    - b (int): Bias\n",
    "    - X (numpy.ndarray): Conjunto de datos (num_px*num_px*3, num_ejemplos)\n",
    "    - Y (numpy.ndarray): Vector de resultados (1, num_ejemplos) -> 0 si la cara no tiene una sonrisa, 1 si la tiene \n",
    "    \n",
    "    Devuelve:\n",
    "    - grads (dict): Diccionario con la derivada parcial de J respecto de w ['dw'] y respecto de b ['db']\n",
    "    - cost (float): Valor de la función coste para los parámetros de la función\n",
    "    \"\"\"\n",
    "    \n",
    "    m = X.shape[1]  #Número de ejemplos\n",
    "    \n",
    "    A = sigmoid(np.dot(w.T, X) + b)   #Resultado de la función sigmoide\n",
    "    cost = -1/m * np.sum(np.dot(Y,np.log(A).T) + np.dot((1-Y),np.log(1-A).T))\n",
    "    dw = 1/m * np.dot(X, (A-Y).T)     #Derivada parcial de J respecto de w\n",
    "    db = 1/m * np.sum(A-Y)            #Derivada parcial de J respecto de b\n",
    "    \n",
    "    grads = {\"dw\":dw, \"db\":db}\n",
    "    \n",
    "    return grads, cost"
   ]
  },
  {
   "cell_type": "code",
   "execution_count": 11,
   "id": "c77bdee4",
   "metadata": {},
   "outputs": [],
   "source": [
    "def gradient_descent (w, b, X, Y, num_iterations=100, learning_rate=0.009, print_cost=False):\n",
    "    \"\"\"\n",
    "    Optimiza w y b a través del algoritmo del descenso de gradiente\n",
    "    \n",
    "    Args:\n",
    "    - w (numpy.ndarray): Vector de pesos (num_px*num_px*3, 1)\n",
    "    - b (int): Bias\n",
    "    - X (numpy.ndarray): Conjunto de datos (num_px*num_px*3, num_ejemplos)\n",
    "    - Y (numpy.ndarray): Vector de resultados (1, num_ejemplos) -> 0 si la cara no tiene una sonrisa, 1 si la tiene \n",
    "    - num_iterations (int): Numero de iteraciones del bucle de optimización\n",
    "    - learning_rate (float): Tasa de aprendizaje para la actualización de pesos y bias\n",
    "    - print_cost (boolean): True para imprimir el coste cada 100 pasos\n",
    "    \n",
    "    Devuelve:\n",
    "    - params (dict): Diccionario con el valor final de w ['w'] y b ['b']\n",
    "    - costs (list): Lista de costes cada 100 pasos\n",
    "    \"\"\"\n",
    "    \n",
    "    w = copy.deepcopy(w)\n",
    "    b = copy.deepcopy(b)\n",
    "    \n",
    "    costs = []\n",
    "    \n",
    "    for i in range(1, num_iterations+1):\n",
    "        grads, cost = forward_propagation(w, b, X, Y)\n",
    "        \n",
    "        dw = grads['dw']\n",
    "        db = grads['db']\n",
    "        \n",
    "        w = w - learning_rate*dw\n",
    "        b = b - learning_rate*db\n",
    "        \n",
    "        if i%100==0 or i==1:\n",
    "            costs.append(cost)\n",
    "            if print_cost:\n",
    "                print(f\"Coste en la iteración {i}: {cost}\")\n",
    "        \n",
    "    params = {\"w\": w, \"b\":b}\n",
    "    \n",
    "    return params, costs"
   ]
  },
  {
   "cell_type": "code",
   "execution_count": 12,
   "id": "9ec5b5ec",
   "metadata": {},
   "outputs": [],
   "source": [
    "def predict(w, b, X):\n",
    "    \"\"\"\n",
    "    Predice 0 o 1\n",
    "    \n",
    "    Args:\n",
    "    - w (numpy.ndarray): Vector de pesos (num_px*num_px*3, 1)\n",
    "    - b (int): Bias\n",
    "    - X (numpy.ndarray): Conjunto de datos (num_px*num_px*3, num_ejemplos)\n",
    "    \n",
    "    Devuelve:\n",
    "    - Y_prediction (numpy.ndarray): Vector con las aproximaciones 0 o 1 (1, num_ejemplos)\n",
    "    \"\"\"\n",
    "    \n",
    "    m = X.shape[1]\n",
    "    Y_prediction = np.zeros((1,m))\n",
    "    A = sigmoid(np.dot(w.T, X) + b)\n",
    "    \n",
    "    for i in range(A.shape[1]):\n",
    "        if(A[0,i]>0.5):\n",
    "            Y_prediction[0,i] = 1\n",
    "    \n",
    "    return Y_prediction"
   ]
  },
  {
   "cell_type": "code",
   "execution_count": 13,
   "id": "abb95364",
   "metadata": {},
   "outputs": [],
   "source": [
    "def model(X_train, Y_train, X_test, Y_test, num_iterations, learning_rate=0.5, print_cost=False):\n",
    "    '''\n",
    "    Función que engloba todo el modelo de regresión logística\n",
    "    \n",
    "    Args:\n",
    "    - X_train (numpy.ndarray): Conjunto de datos de entrenamiento (num_px*num_px*3, num_ejemplos)\n",
    "    - Y_train (numpy.ndarray): Vector de resultados de entrenamiento (1, num_ejemplos) \n",
    "    - X_test (numpy.ndarray): Conjunto de datos de test (num_px*num_px*3, num_ejemplos)\n",
    "    - Y_test (numpy.ndarray): Vector de resultados de test (1, num_ejemplos) \n",
    "    - num_iterations (int): Número de iteraciones del bucle de optimización\n",
    "    - learning_rate (float): Tasa de aprendizaje para la actualización de pesos y bias\n",
    "    - print_cost (boolean): True para imprimir el coste cada 100 pasos y la precisión del modelo para el entrenamiento y test\n",
    "    \n",
    "    Devuelve:\n",
    "    - d (dict): Diccionario que contiene la lista de costes [\"costs\"], predicción en los ejemplos de test [\"Y_prediction_test\"],\n",
    "                predicción en los ejemplos de entrenamiento [\"Y_prediction_train\"], precisión en entrenamiento [\"score_train\"],\n",
    "                precisión en test [\"score_test\"], vector de pesos [\"w\"], bias [\"b\"]\n",
    "    '''\n",
    "    \n",
    "    \n",
    "    w = np.zeros((X_train.shape[0], 1))\n",
    "    b = 0.\n",
    "    \n",
    "    params, costs = gradient_descent(w, b, X_train, Y_train, num_iterations, learning_rate, print_cost)\n",
    "    w = params['w']\n",
    "    b = params['b']\n",
    "    Y_prediction_test = predict(w, b, X_test)\n",
    "    Y_prediction_train = predict(w, b, X_train)\n",
    "    \n",
    "    score_train = 100 - np.mean(np.abs(Y_prediction_train - Y_train)) * 100\n",
    "    score_test = 100 - np.mean(np.abs(Y_prediction_test - Y_test))* 100\n",
    "    \n",
    "    if print_cost:\n",
    "        print(f'Precisión en entrenamiento: {score_train}%')\n",
    "        print(f'Precisión en test: {score_test}%')\n",
    "        \n",
    "    d = {\"costs\": costs,\n",
    "         \"Y_prediction_train\" : Y_prediction_train,\n",
    "         \"Y_prediction_test\": Y_prediction_test, \n",
    "         \"score_train\": score_train,\n",
    "         \"score_test\": score_test,\n",
    "         \"w\" : w, \n",
    "         \"b\" : b}\n",
    "    \n",
    "    return d"
   ]
  },
  {
   "cell_type": "markdown",
   "id": "c9439f93",
   "metadata": {},
   "source": [
    "## Pruebas del algoritmo"
   ]
  },
  {
   "cell_type": "code",
   "execution_count": 14,
   "id": "3f525bf3",
   "metadata": {},
   "outputs": [
    {
     "name": "stdout",
     "output_type": "stream",
     "text": [
      "Coste en la iteración 1: 0.6931471805599453\n",
      "Coste en la iteración 100: 2.016452672651478\n",
      "Coste en la iteración 200: 0.9400012027717219\n",
      "Coste en la iteración 300: 0.5109581003071446\n",
      "Coste en la iteración 400: 0.21272586466206095\n",
      "Coste en la iteración 500: 0.18113062079703315\n",
      "Coste en la iteración 600: 0.16894042351679134\n",
      "Coste en la iteración 700: 0.15957595593644006\n",
      "Coste en la iteración 800: 0.15176417365385994\n",
      "Coste en la iteración 900: 0.14500726814765197\n",
      "Coste en la iteración 1000: 0.13905151113379366\n",
      "Coste en la iteración 1100: 0.1337392995563977\n",
      "Coste en la iteración 1200: 0.1289598785605152\n",
      "Coste en la iteración 1300: 0.12462974963835095\n",
      "Coste en la iteración 1400: 0.12068338225885512\n",
      "Coste en la iteración 1500: 0.1170680633538238\n",
      "Coste en la iteración 1600: 0.11374067468980462\n",
      "Coste en la iteración 1700: 0.11066550189543328\n",
      "Coste en la iteración 1800: 0.10781266217244054\n",
      "Coste en la iteración 1900: 0.10515693551713456\n",
      "Coste en la iteración 2000: 0.10267687478633207\n",
      "Precisión en entrenamiento: 98.16666666666667%\n",
      "Precisión en test: 95.33333333333333%\n"
     ]
    }
   ],
   "source": [
    "logistic_regression_model = model(train_set_x, train_set_y, test_set_x, test_set_y, num_iterations=2000, learning_rate=0.005, print_cost=True)"
   ]
  },
  {
   "cell_type": "markdown",
   "id": "8f37d026",
   "metadata": {},
   "source": [
    "## Gráfico sobre el rendimiento con diferentes tasas de aprendizaje"
   ]
  },
  {
   "cell_type": "code",
   "execution_count": 15,
   "id": "e41447c0",
   "metadata": {},
   "outputs": [
    {
     "data": {
      "image/png": "[encoded data removed]",
      "text/plain": [
       "<Figure size 640x480 with 1 Axes>"
      ]
     },
     "metadata": {},
     "output_type": "display_data"
    }
   ],
   "source": [
    "learning_rates = [0.001, 0.003, 0.005, 0.01]\n",
    "scores_train = []\n",
    "scores_test = []\n",
    "\n",
    "for alpha in learning_rates:\n",
    "    logistic_regression_model = model(train_set_x, train_set_y, test_set_x, test_set_y, num_iterations=1500, learning_rate=alpha, print_cost=False)        \n",
    "    scores_train.append(logistic_regression_model['score_train'])\n",
    "    scores_test.append(logistic_regression_model['score_test'])\n",
    "    \n",
    "plt.plot(learning_rates, scores_train, label=\"Precisión entrenamiento\")\n",
    "plt.plot(learning_rates, scores_test, label=\"Precisión test\")\n",
    "plt.xlim(learning_rates[0], learning_rates[-1])\n",
    "plt.xlabel('Learning rates')\n",
    "plt.ylabel('Rendimiento (%)')\n",
    "plt.legend()\n",
    "plt.show()"
   ]
  },
  {
   "cell_type": "markdown",
   "id": "c8283bfa",
   "metadata": {},
   "source": [
    "Según la gráfica, de las tasas de aprendizajes tomadas, la que mejor rendimiento da es 0.01"
   ]
  },
  {
   "cell_type": "markdown",
   "id": "7c955b7a",
   "metadata": {},
   "source": [
    "# Algoritmo (con sklearn)"
   ]
  },
  {
   "cell_type": "code",
   "execution_count": 16,
   "id": "457cb1b6",
   "metadata": {},
   "outputs": [],
   "source": [
    "from sklearn.linear_model import LogisticRegression\n",
    "from sklearn.preprocessing import StandardScaler"
   ]
  },
  {
   "cell_type": "code",
   "execution_count": 17,
   "id": "ba1d2341",
   "metadata": {},
   "outputs": [],
   "source": [
    "norm = StandardScaler()\n",
    "X_train = train_set_x_flatten.T\n",
    "X_train_norm = norm.fit_transform(X_train)"
   ]
  },
  {
   "cell_type": "code",
   "execution_count": 18,
   "id": "480df357",
   "metadata": {},
   "outputs": [
    {
     "data": {
      "text/html": [
       "<style>#sk-container-id-1 {color: black;background-color: white;}#sk-container-id-1 pre{padding: 0;}#sk-container-id-1 div.sk-toggleable {background-color: white;}#sk-container-id-1 label.sk-toggleable__label {cursor: pointer;display: block;width: 100%;margin-bottom: 0;padding: 0.3em;box-sizing: border-box;text-align: center;}#sk-container-id-1 label.sk-toggleable__label-arrow:before {content: \"▸\";float: left;margin-right: 0.25em;color: #696969;}#sk-container-id-1 label.sk-toggleable__label-arrow:hover:before {color: black;}#sk-container-id-1 div.sk-estimator:hover label.sk-toggleable__label-arrow:before {color: black;}#sk-container-id-1 div.sk-toggleable__content {max-height: 0;max-width: 0;overflow: hidden;text-align: left;background-color: #f0f8ff;}#sk-container-id-1 div.sk-toggleable__content pre {margin: 0.2em;color: black;border-radius: 0.25em;background-color: #f0f8ff;}#sk-container-id-1 input.sk-toggleable__control:checked~div.sk-toggleable__content {max-height: 200px;max-width: 100%;overflow: auto;}#sk-container-id-1 input.sk-toggleable__control:checked~label.sk-toggleable__label-arrow:before {content: \"▾\";}#sk-container-id-1 div.sk-estimator input.sk-toggleable__control:checked~label.sk-toggleable__label {background-color: #d4ebff;}#sk-container-id-1 div.sk-label input.sk-toggleable__control:checked~label.sk-toggleable__label {background-color: #d4ebff;}#sk-container-id-1 input.sk-hidden--visually {border: 0;clip: rect(1px 1px 1px 1px);clip: rect(1px, 1px, 1px, 1px);height: 1px;margin: -1px;overflow: hidden;padding: 0;position: absolute;width: 1px;}#sk-container-id-1 div.sk-estimator {font-family: monospace;background-color: #f0f8ff;border: 1px dotted black;border-radius: 0.25em;box-sizing: border-box;margin-bottom: 0.5em;}#sk-container-id-1 div.sk-estimator:hover {background-color: #d4ebff;}#sk-container-id-1 div.sk-parallel-item::after {content: \"\";width: 100%;border-bottom: 1px solid gray;flex-grow: 1;}#sk-container-id-1 div.sk-label:hover label.sk-toggleable__label {background-color: #d4ebff;}#sk-container-id-1 div.sk-serial::before {content: \"\";position: absolute;border-left: 1px solid gray;box-sizing: border-box;top: 0;bottom: 0;left: 50%;z-index: 0;}#sk-container-id-1 div.sk-serial {display: flex;flex-direction: column;align-items: center;background-color: white;padding-right: 0.2em;padding-left: 0.2em;position: relative;}#sk-container-id-1 div.sk-item {position: relative;z-index: 1;}#sk-container-id-1 div.sk-parallel {display: flex;align-items: stretch;justify-content: center;background-color: white;position: relative;}#sk-container-id-1 div.sk-item::before, #sk-container-id-1 div.sk-parallel-item::before {content: \"\";position: absolute;border-left: 1px solid gray;box-sizing: border-box;top: 0;bottom: 0;left: 50%;z-index: -1;}#sk-container-id-1 div.sk-parallel-item {display: flex;flex-direction: column;z-index: 1;position: relative;background-color: white;}#sk-container-id-1 div.sk-parallel-item:first-child::after {align-self: flex-end;width: 50%;}#sk-container-id-1 div.sk-parallel-item:last-child::after {align-self: flex-start;width: 50%;}#sk-container-id-1 div.sk-parallel-item:only-child::after {width: 0;}#sk-container-id-1 div.sk-dashed-wrapped {border: 1px dashed gray;margin: 0 0.4em 0.5em 0.4em;box-sizing: border-box;padding-bottom: 0.4em;background-color: white;}#sk-container-id-1 div.sk-label label {font-family: monospace;font-weight: bold;display: inline-block;line-height: 1.2em;}#sk-container-id-1 div.sk-label-container {text-align: center;}#sk-container-id-1 div.sk-container {/* jupyter's `normalize.less` sets `[hidden] { display: none; }` but bootstrap.min.css set `[hidden] { display: none !important; }` so we also need the `!important` here to be able to override the default hidden behavior on the sphinx rendered scikit-learn.org. See: https://github.com/scikit-learn/scikit-learn/issues/21755 */display: inline-block !important;position: relative;}#sk-container-id-1 div.sk-text-repr-fallback {display: none;}</style><div id=\"sk-container-id-1\" class=\"sk-top-container\"><div class=\"sk-text-repr-fallback\"><pre>LogisticRegression(max_iter=1500)</pre><b>In a Jupyter environment, please rerun this cell to show the HTML representation or trust the notebook. <br />On GitHub, the HTML representation is unable to render, please try loading this page with nbviewer.org.</b></div><div class=\"sk-container\" hidden><div class=\"sk-item\"><div class=\"sk-estimator sk-toggleable\"><input class=\"sk-toggleable__control sk-hidden--visually\" id=\"sk-estimator-id-1\" type=\"checkbox\" checked><label for=\"sk-estimator-id-1\" class=\"sk-toggleable__label sk-toggleable__label-arrow\">LogisticRegression</label><div class=\"sk-toggleable__content\"><pre>LogisticRegression(max_iter=1500)</pre></div></div></div></div></div>"
      ],
      "text/plain": [
       "LogisticRegression(max_iter=1500)"
      ]
     },
     "execution_count": 18,
     "metadata": {},
     "output_type": "execute_result"
    }
   ],
   "source": [
    "model = LogisticRegression(max_iter=1500)\n",
    "\n",
    "y_train = train_set_y.reshape(-1)\n",
    "model.fit(X_train_norm, y_train)"
   ]
  },
  {
   "cell_type": "code",
   "execution_count": 19,
   "id": "d35e2455",
   "metadata": {},
   "outputs": [
    {
     "name": "stdout",
     "output_type": "stream",
     "text": [
      "El modelo tiene una precisión del 100.0% en los datos de entrenamiento \n",
      "El modelo tiene una precisión del 97.33% en los datos de test \n"
     ]
    }
   ],
   "source": [
    "X_test = test_set_x_flatten.T\n",
    "X_test_norm = norm.fit_transform(X_test)\n",
    "y_test = test_set_y.reshape(-1)\n",
    "\n",
    "print(f'El modelo tiene una precisión del {model.score(X_train_norm, y_train) * 100}% en los datos de entrenamiento ')\n",
    "print(f'El modelo tiene una precisión del {(model.score(X_test_norm, y_test) * 100):.2f}% en los datos de test ')"
   ]
  }
 ],
 "metadata": {
  "kernelspec": {
   "display_name": "Python 3 (ipykernel)",
   "language": "python",
   "name": "python3"
  },
  "language_info": {
   "codemirror_mode": {
    "name": "ipython",
    "version": 3
   },
   "file_extension": ".py",
   "mimetype": "text/x-python",
   "name": "python",
   "nbconvert_exporter": "python",
   "pygments_lexer": "ipython3",
   "version": "3.9.13"
  }
 },
 "nbformat": 4,
 "nbformat_minor": 5
}
