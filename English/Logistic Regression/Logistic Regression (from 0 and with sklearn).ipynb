{
 "cells": [
  {
   "cell_type": "markdown",
   "id": "f84e5493",
   "metadata": {},
   "source": [
    "# Import of libraries"
   ]
  },
  {
   "cell_type": "code",
   "execution_count": 1,
   "id": "80ea50a5",
   "metadata": {},
   "outputs": [],
   "source": [
    "import numpy as np\n",
    "import h5py\n",
    "import matplotlib.pyplot as plt\n",
    "import copy"
   ]
  },
  {
   "cell_type": "markdown",
   "id": "78c8a175",
   "metadata": {},
   "source": [
    "# Dataset"
   ]
  },
  {
   "cell_type": "code",
   "execution_count": 2,
   "id": "0f3a62ce",
   "metadata": {},
   "outputs": [],
   "source": [
    "def load_dataset():\n",
    "    \"\"\"\n",
    "    Load the dataset contained in a .h5 file\n",
    "    \n",
    "    Returns:\n",
    "    - train_set_x_orig (numpy.ndarray): Training set X\n",
    "    - train_set_y_orig (numpy.ndarray): Training set Y\n",
    "    - test_set_x_orig (numpy.ndarray): Test set X\n",
    "    - test_set_y_orig (numpy.ndarray): Test set Y\n",
    "    - classes (numpy.ndarray) = Classes set\n",
    "    \"\"\"\n",
    "    \n",
    "    train_dataset = h5py.File('dataset/train_happy.h5', 'r')\n",
    "    train_set_x_orig = np.array(train_dataset['train_set_x'][:])\n",
    "    train_set_y_orig = np.array(train_dataset['train_set_y'][:])\n",
    "    classes = np.array(train_dataset['list_classes'][:])\n",
    "    \n",
    "    test_dataset = h5py.File('dataset/test_happy.h5', 'r')\n",
    "    test_set_x_orig = np.array(test_dataset['test_set_x'][:])\n",
    "    test_set_y_orig = np.array(test_dataset['test_set_y'][:])\n",
    "    \n",
    "    train_set_y_orig = train_set_y_orig.reshape((1,-1))\n",
    "    test_set_y_orig = test_set_y_orig.reshape((1, -1))\n",
    "    \n",
    "    return train_set_x_orig, train_set_y_orig, test_set_x_orig, test_set_y_orig, classes"
   ]
  },
  {
   "cell_type": "code",
   "execution_count": 3,
   "id": "331dd927",
   "metadata": {},
   "outputs": [],
   "source": [
    "train_set_x_orig, train_set_y, test_set_x_orig, test_set_y, classes = load_dataset()"
   ]
  },
  {
   "cell_type": "code",
   "execution_count": 4,
   "id": "9e423197",
   "metadata": {},
   "outputs": [],
   "source": [
    "def dimensions():\n",
    "    \"\"\"\n",
    "    Prints information related to the previously loaded dataset\n",
    "    \"\"\"\n",
    "    \n",
    "    num_examples_train = train_set_x_orig.shape[0]\n",
    "    num_examples_test = test_set_x_orig.shape[0]\n",
    "    width = train_set_x_orig.shape[1]\n",
    "    heigh = train_set_x_orig.shape[2]\n",
    "    num_classes = len(classes)\n",
    "    \n",
    "    print(f'Number of training examples : {num_examples_train}')\n",
    "    print(f'Number of test examples: {num_examples_test}')\n",
    "    print(f'Photo dimension: {width}x{heigh}')\n",
    "    print(f'Shape training dataset X: {train_set_x_orig.shape}')\n",
    "    print(f'Shape training dataset Y: {train_set_y.shape}')\n",
    "    print(f'Shape test dataset X: {test_set_x_orig.shape}')\n",
    "    print(f'Shape test dataset Y: {test_set_y.shape}')\n",
    "    print(f'Number of classes: {num_classes}')"
   ]
  },
  {
   "cell_type": "code",
   "execution_count": 5,
   "id": "dca1248d",
   "metadata": {},
   "outputs": [
    {
     "name": "stdout",
     "output_type": "stream",
     "text": [
      "Number of training examples : 600\n",
      "Number of test examples: 150\n",
      "Photo dimension: 64x64\n",
      "Shape training dataset X: (600, 64, 64, 3)\n",
      "Shape training dataset Y: (1, 600)\n",
      "Shape test dataset X: (150, 64, 64, 3)\n",
      "Shape test dataset Y: (1, 150)\n",
      "Number of classes: 2\n"
     ]
    }
   ],
   "source": [
    "dimensions()"
   ]
  },
  {
   "cell_type": "code",
   "execution_count": 6,
   "id": "7a9f2691",
   "metadata": {},
   "outputs": [
    {
     "name": "stdout",
     "output_type": "stream",
     "text": [
      "The picture number 80 has the value: 1\n"
     ]
    },
    {
     "data": {
      "image/png": "[encoded data removed]",
      "text/plain": [
       "<Figure size 640x480 with 1 Axes>"
      ]
     },
     "metadata": {},
     "output_type": "display_data"
    }
   ],
   "source": [
    "num = 80\n",
    "plt.imshow(train_set_x_orig[num])\n",
    "print(f\"The picture number {num} has the value: {train_set_y[0, num]}\")"
   ]
  },
  {
   "cell_type": "markdown",
   "id": "41fe4ff6",
   "metadata": {},
   "source": [
    "# Algorithm (from 0)"
   ]
  },
  {
   "cell_type": "markdown",
   "id": "24b01f8b",
   "metadata": {},
   "source": [
    "We convert the images into vectors:\n",
    "(px width, x height, 3) -> (px width * px height * 3, 1).\n",
    "\n",
    "Each column in the dataset represents an image."
   ]
  },
  {
   "cell_type": "code",
   "execution_count": 7,
   "id": "bfddd041",
   "metadata": {},
   "outputs": [
    {
     "name": "stdout",
     "output_type": "stream",
     "text": [
      "train_set_x_flatten: (12288, 600)\n",
      "test_set_x_flatten: (12288, 150)\n",
      "train_set_y: (1, 600)\n",
      "test_set_y: (1, 150)\n"
     ]
    }
   ],
   "source": [
    "train_set_x_flatten = train_set_x_orig.reshape(train_set_x_orig.shape[0], -1).T\n",
    "test_set_x_flatten = test_set_x_orig.reshape(test_set_x_orig.shape[0], -1).T\n",
    "\n",
    "print(f\"train_set_x_flatten: {train_set_x_flatten.shape}\")\n",
    "print(f\"test_set_x_flatten: {test_set_x_flatten.shape}\")\n",
    "print(f\"train_set_y: {train_set_y.shape}\")\n",
    "print(f\"test_set_y: {test_set_y.shape}\")"
   ]
  },
  {
   "cell_type": "markdown",
   "id": "0c40e5fc",
   "metadata": {},
   "source": [
    "We normalize the dataset to make the algorithm work faster"
   ]
  },
  {
   "cell_type": "code",
   "execution_count": 8,
   "id": "1f687f54",
   "metadata": {},
   "outputs": [],
   "source": [
    "train_set_x = train_set_x_flatten /255.\n",
    "test_set_x = test_set_x_flatten / 255."
   ]
  },
  {
   "cell_type": "markdown",
   "id": "e4e599fd",
   "metadata": {},
   "source": [
    "## Functions"
   ]
  },
  {
   "cell_type": "markdown",
   "id": "ce0f5d75",
   "metadata": {},
   "source": [
    "$sigmoid(z) = \\frac{1}{1 + e^{-z}}$ where $z = w^T x + b $"
   ]
  },
  {
   "cell_type": "code",
   "execution_count": 9,
   "id": "2238e50b",
   "metadata": {},
   "outputs": [],
   "source": [
    "def sigmoid(z):\n",
    "    \"\"\"\n",
    "    Compute sigmoid function of z\n",
    "    \n",
    "    Args:\n",
    "    - z: Scalar or numpy array\n",
    "    \n",
    "    Returns:\n",
    "    - s: Sigmoid function of z\n",
    "    \"\"\"\n",
    "    \n",
    "    s = 1/(1+np.exp(-z))\n",
    "    return s"
   ]
  },
  {
   "cell_type": "markdown",
   "id": "b60adff9",
   "metadata": {},
   "source": [
    "The cost function uses will be:\n",
    "\n",
    "$$J = -\\frac{1}{m}\\sum_{i=1}^{m}(y^{(i)}\\log(a^{(i)})+(1-y^{(i)})\\log(1-a^{(i)}))$$\n",
    "\n",
    "The goal is to minimize it. To do this, we must calculate the w and b that minimize the cost funcion. To find such variables, **gradient descent** will be used. The partial derivatives of J with respect to w and b are as follows:\n",
    "\n",
    "$$ \\frac{\\partial J}{\\partial w} = \\frac{1}{m}X(A-Y)^T$$\n",
    "$$ \\frac{\\partial J}{\\partial b} = \\frac{1}{m} \\sum_{i=1}^m (a^{(i)}-y^{(i)})$$"
   ]
  },
  {
   "cell_type": "code",
   "execution_count": 10,
   "id": "bd8cba0d",
   "metadata": {},
   "outputs": [],
   "source": [
    "def forward_propagation(w, b, X, Y):\n",
    "    \"\"\"\n",
    "    Returns the cost and partial derivatives of J with respect to w and b\n",
    "    \n",
    "    Args:\n",
    "    - w (numpy.ndarray): Weights vector (num_px*num_px*3, 1)\n",
    "    - b (int): Bias\n",
    "    - X (numpy.ndarray): Data set (num_px*num_px*3, num_examples)\n",
    "    - Y (numpy.ndarray): Results vector (1, num_examples) -> 0 if the face doesn't have a smile, 1 if it does\n",
    "    \n",
    "    Devuelve:\n",
    "    - grads (dict): Dictionary with the partial derivative of J with respect to w ['dw'] and with respect to b ['db']\n",
    "    - cost (float): Cost function value for function parameters\n",
    "    \"\"\"\n",
    "    \n",
    "    m = X.shape[1]  #Number of examples\n",
    "    \n",
    "    A = sigmoid(np.dot(w.T, X) + b)   #Result of sigmoid function\n",
    "    cost = -1/m * np.sum(np.dot(Y,np.log(A).T) + np.dot((1-Y),np.log(1-A).T))\n",
    "    dw = 1/m * np.dot(X, (A-Y).T)     #Partial derivative of J with respect to w\n",
    "    db = 1/m * np.sum(A-Y)            #Partial derivative of J with respect to b\n",
    "    \n",
    "    grads = {\"dw\":dw, \"db\":db}\n",
    "    \n",
    "    return grads, cost"
   ]
  },
  {
   "cell_type": "code",
   "execution_count": 11,
   "id": "831761ac",
   "metadata": {},
   "outputs": [],
   "source": [
    "def gradient_descent (w, b, X, Y, num_iterations=100, learning_rate=0.009, print_cost=False):\n",
    "    \"\"\"\n",
    "    Optimizes w and b through the gradient descent algorithm\n",
    "    \n",
    "    Args:\n",
    "    - w (numpy.ndarray): Weights vector (num_px*num_px*3, 1)\n",
    "    - b (int): Bias\n",
    "    - X (numpy.ndarray): Data set (num_px*num_px*3, num_examples)\n",
    "    - Y (numpy.ndarray): Results set (1, num_examples) -> 0 if the face doesn't have a smile, 1 if it does\n",
    "    - num_iterations (int): Number of iterations of the optimization loop\n",
    "    - learning_rate (float): Learning rate for updating weights and bias\n",
    "    - print_cost (boolean):True to print the cost every 100 steps\n",
    "    \n",
    "    Returns:\n",
    "    - params (dict): Dictionary with the final value of w ['w'] and b ['b']\n",
    "    - costs (list): Costs list per 100 steps\n",
    "    \"\"\"\n",
    "    \n",
    "    w = copy.deepcopy(w)\n",
    "    b = copy.deepcopy(b)\n",
    "    \n",
    "    costs = []\n",
    "    \n",
    "    for i in range(1, num_iterations+1):\n",
    "        grads, cost = forward_propagation(w, b, X, Y)\n",
    "        \n",
    "        dw = grads['dw']\n",
    "        db = grads['db']\n",
    "        \n",
    "        w = w - learning_rate*dw\n",
    "        b = b - learning_rate*db\n",
    "        \n",
    "        if i%100==0 or i==1:\n",
    "            costs.append(cost)\n",
    "            if print_cost:\n",
    "                print(f\"Cost in the iteration {i}: {cost}\")\n",
    "        \n",
    "    params = {\"w\": w, \"b\":b}\n",
    "    \n",
    "    return params, costs"
   ]
  },
  {
   "cell_type": "code",
   "execution_count": 12,
   "id": "ef01cfd7",
   "metadata": {},
   "outputs": [],
   "source": [
    "def predict(w, b, X):\n",
    "    \"\"\"\n",
    "    Predict 0 or 1\n",
    "    \n",
    "    Args:\n",
    "    - w (numpy.ndarray): Weights vector (num_px*num_px*3, 1)\n",
    "    - b (int): Bias\n",
    "    - X (numpy.ndarray): Data set (num_px*num_px*3, num_examples)\n",
    "    \n",
    "    Devuelve:\n",
    "    - Y_prediction (numpy.ndarray): Vector with approximations 0 or 1 (1, num_examples)\n",
    "    \"\"\"\n",
    "    \n",
    "    m = X.shape[1]\n",
    "    Y_prediction = np.zeros((1,m))\n",
    "    A = sigmoid(np.dot(w.T, X) + b)\n",
    "    \n",
    "    for i in range(A.shape[1]):\n",
    "        if(A[0,i]>0.5):\n",
    "            Y_prediction[0,i] = 1\n",
    "    \n",
    "    return Y_prediction"
   ]
  },
  {
   "cell_type": "code",
   "execution_count": 13,
   "id": "fbbb5775",
   "metadata": {},
   "outputs": [],
   "source": [
    "def model(X_train, Y_train, X_test, Y_test, num_iterations, learning_rate=0.5, print_cost=False):\n",
    "    '''\n",
    "    Function that encompasses the entire logistic regression model\n",
    "    \n",
    "    Args:\n",
    "    - X_train (numpy.ndarray): Training data set (num_px*num_px*3, num_examples)\n",
    "    - Y_train (numpy.ndarray): Training results set  (1, num_examples) \n",
    "    - X_test (numpy.ndarray): Test data set (num_px*num_px*3, num_examples)\n",
    "    - Y_test (numpy.ndarray): Test results set (1, num_examples) \n",
    "    - num_iterations (int): Number of iterations of the optimization loop\n",
    "    - learning_rate (float): Learning rate for updating weights and bias\n",
    "    - print_cost (boolean): True to print the cost per 100 steps and the accuracy of the model for training and testing\n",
    "    \n",
    "    Devuelve:\n",
    "    - d (dict): Dictionary containing list of costs [\"costs\"], prediction in test examples [\"Y_prediction_test\"],\n",
    "                 prediction in training examples [\"Y_prediction_train\"], accuracy in training [\"score_train\"],\n",
    "                 accuracy in test [\"score_test\"], weight vector [\"w\"], bias [\"b\"]\n",
    "    '''\n",
    "    \n",
    "    w = np.zeros((X_train.shape[0], 1))\n",
    "    b = 0.\n",
    "    \n",
    "    params, costs = gradient_descent(w, b, X_train, Y_train, num_iterations, learning_rate, print_cost)\n",
    "    w = params['w']\n",
    "    b = params['b']\n",
    "    Y_prediction_test = predict(w, b, X_test)\n",
    "    Y_prediction_train = predict(w, b, X_train)\n",
    "    \n",
    "    score_train = 100 - np.mean(np.abs(Y_prediction_train - Y_train)) * 100\n",
    "    score_test = 100 - np.mean(np.abs(Y_prediction_test - Y_test))* 100\n",
    "    \n",
    "    if print_cost:\n",
    "        print(f'Accuracy in training: {score_train}%')\n",
    "        print(f'Accuracy in test: {score_test}%')\n",
    "        \n",
    "    d = {\"costs\": costs,\n",
    "         \"Y_prediction_train\" : Y_prediction_train,\n",
    "         \"Y_prediction_test\": Y_prediction_test, \n",
    "         \"score_train\": score_train,\n",
    "         \"score_test\": score_test,\n",
    "         \"w\" : w, \n",
    "         \"b\" : b}\n",
    "    \n",
    "    return d"
   ]
  },
  {
   "cell_type": "markdown",
   "id": "503c8757",
   "metadata": {},
   "source": [
    "## Algorithm tests"
   ]
  },
  {
   "cell_type": "code",
   "execution_count": 14,
   "id": "4bcd9ae2",
   "metadata": {},
   "outputs": [
    {
     "name": "stdout",
     "output_type": "stream",
     "text": [
      "Cost in the iteration 1: 0.6931471805599453\n",
      "Cost in the iteration 100: 2.016452672651478\n",
      "Cost in the iteration 200: 0.9400012027717219\n",
      "Cost in the iteration 300: 0.5109581003071446\n",
      "Cost in the iteration 400: 0.21272586466206095\n",
      "Cost in the iteration 500: 0.18113062079703315\n",
      "Cost in the iteration 600: 0.16894042351679134\n",
      "Cost in the iteration 700: 0.15957595593644006\n",
      "Cost in the iteration 800: 0.15176417365385994\n",
      "Cost in the iteration 900: 0.14500726814765197\n",
      "Cost in the iteration 1000: 0.13905151113379366\n",
      "Cost in the iteration 1100: 0.1337392995563977\n",
      "Cost in the iteration 1200: 0.1289598785605152\n",
      "Cost in the iteration 1300: 0.12462974963835095\n",
      "Cost in the iteration 1400: 0.12068338225885512\n",
      "Cost in the iteration 1500: 0.1170680633538238\n",
      "Cost in the iteration 1600: 0.11374067468980462\n",
      "Cost in the iteration 1700: 0.11066550189543328\n",
      "Cost in the iteration 1800: 0.10781266217244054\n",
      "Cost in the iteration 1900: 0.10515693551713456\n",
      "Cost in the iteration 2000: 0.10267687478633207\n",
      "Accuracy in training: 98.16666666666667%\n",
      "Accuracy in test: 95.33333333333333%\n"
     ]
    }
   ],
   "source": [
    "logistic_regression_model = model(train_set_x, train_set_y, test_set_x, test_set_y, num_iterations=2000, learning_rate=0.005, print_cost=True)"
   ]
  },
  {
   "cell_type": "markdown",
   "id": "c3c35657",
   "metadata": {},
   "source": [
    "## Performance graph with different learning rates"
   ]
  },
  {
   "cell_type": "code",
   "execution_count": 15,
   "id": "99342e26",
   "metadata": {},
   "outputs": [
    {
     "data": {
      "image/png": "[encoded data removed]",
      "text/plain": [
       "<Figure size 640x480 with 1 Axes>"
      ]
     },
     "metadata": {},
     "output_type": "display_data"
    }
   ],
   "source": [
    "learning_rates = [0.001, 0.003, 0.005, 0.01]\n",
    "scores_train = []\n",
    "scores_test = []\n",
    "\n",
    "for alpha in learning_rates:\n",
    "    logistic_regression_model = model(train_set_x, train_set_y, test_set_x, test_set_y, num_iterations=1500, learning_rate=alpha, print_cost=False)        \n",
    "    scores_train.append(logistic_regression_model['score_train'])\n",
    "    scores_test.append(logistic_regression_model['score_test'])\n",
    "    \n",
    "plt.plot(learning_rates, scores_train, label=\"Trainig accuracy\")\n",
    "plt.plot(learning_rates, scores_test, label=\"Test accuracy\")\n",
    "plt.xlim(learning_rates[0], learning_rates[-1])\n",
    "plt.xlabel('Learning rates')\n",
    "plt.ylabel('Score (%)')\n",
    "plt.legend()\n",
    "plt.show()"
   ]
  },
  {
   "cell_type": "markdown",
   "id": "2760f1a6",
   "metadata": {},
   "source": [
    "According to the graph, of the learning rates taken, the one that gives the best performance is 0.01"
   ]
  },
  {
   "cell_type": "markdown",
   "id": "5043d18d",
   "metadata": {},
   "source": [
    "# Algorithm (with sklearn)"
   ]
  },
  {
   "cell_type": "code",
   "execution_count": 16,
   "id": "9a8742c8",
   "metadata": {},
   "outputs": [],
   "source": [
    "from sklearn.linear_model import LogisticRegression\n",
    "from sklearn.preprocessing import StandardScaler"
   ]
  },
  {
   "cell_type": "code",
   "execution_count": 17,
   "id": "c750d32c",
   "metadata": {},
   "outputs": [],
   "source": [
    "norm = StandardScaler()\n",
    "X_train = train_set_x_flatten.T\n",
    "X_train_norm = norm.fit_transform(X_train)"
   ]
  },
  {
   "cell_type": "code",
   "execution_count": 18,
   "id": "af38216c",
   "metadata": {},
   "outputs": [
    {
     "data": {
      "text/html": [
       "<style>#sk-container-id-1 {color: black;background-color: white;}#sk-container-id-1 pre{padding: 0;}#sk-container-id-1 div.sk-toggleable {background-color: white;}#sk-container-id-1 label.sk-toggleable__label {cursor: pointer;display: block;width: 100%;margin-bottom: 0;padding: 0.3em;box-sizing: border-box;text-align: center;}#sk-container-id-1 label.sk-toggleable__label-arrow:before {content: \"▸\";float: left;margin-right: 0.25em;color: #696969;}#sk-container-id-1 label.sk-toggleable__label-arrow:hover:before {color: black;}#sk-container-id-1 div.sk-estimator:hover label.sk-toggleable__label-arrow:before {color: black;}#sk-container-id-1 div.sk-toggleable__content {max-height: 0;max-width: 0;overflow: hidden;text-align: left;background-color: #f0f8ff;}#sk-container-id-1 div.sk-toggleable__content pre {margin: 0.2em;color: black;border-radius: 0.25em;background-color: #f0f8ff;}#sk-container-id-1 input.sk-toggleable__control:checked~div.sk-toggleable__content {max-height: 200px;max-width: 100%;overflow: auto;}#sk-container-id-1 input.sk-toggleable__control:checked~label.sk-toggleable__label-arrow:before {content: \"▾\";}#sk-container-id-1 div.sk-estimator input.sk-toggleable__control:checked~label.sk-toggleable__label {background-color: #d4ebff;}#sk-container-id-1 div.sk-label input.sk-toggleable__control:checked~label.sk-toggleable__label {background-color: #d4ebff;}#sk-container-id-1 input.sk-hidden--visually {border: 0;clip: rect(1px 1px 1px 1px);clip: rect(1px, 1px, 1px, 1px);height: 1px;margin: -1px;overflow: hidden;padding: 0;position: absolute;width: 1px;}#sk-container-id-1 div.sk-estimator {font-family: monospace;background-color: #f0f8ff;border: 1px dotted black;border-radius: 0.25em;box-sizing: border-box;margin-bottom: 0.5em;}#sk-container-id-1 div.sk-estimator:hover {background-color: #d4ebff;}#sk-container-id-1 div.sk-parallel-item::after {content: \"\";width: 100%;border-bottom: 1px solid gray;flex-grow: 1;}#sk-container-id-1 div.sk-label:hover label.sk-toggleable__label {background-color: #d4ebff;}#sk-container-id-1 div.sk-serial::before {content: \"\";position: absolute;border-left: 1px solid gray;box-sizing: border-box;top: 0;bottom: 0;left: 50%;z-index: 0;}#sk-container-id-1 div.sk-serial {display: flex;flex-direction: column;align-items: center;background-color: white;padding-right: 0.2em;padding-left: 0.2em;position: relative;}#sk-container-id-1 div.sk-item {position: relative;z-index: 1;}#sk-container-id-1 div.sk-parallel {display: flex;align-items: stretch;justify-content: center;background-color: white;position: relative;}#sk-container-id-1 div.sk-item::before, #sk-container-id-1 div.sk-parallel-item::before {content: \"\";position: absolute;border-left: 1px solid gray;box-sizing: border-box;top: 0;bottom: 0;left: 50%;z-index: -1;}#sk-container-id-1 div.sk-parallel-item {display: flex;flex-direction: column;z-index: 1;position: relative;background-color: white;}#sk-container-id-1 div.sk-parallel-item:first-child::after {align-self: flex-end;width: 50%;}#sk-container-id-1 div.sk-parallel-item:last-child::after {align-self: flex-start;width: 50%;}#sk-container-id-1 div.sk-parallel-item:only-child::after {width: 0;}#sk-container-id-1 div.sk-dashed-wrapped {border: 1px dashed gray;margin: 0 0.4em 0.5em 0.4em;box-sizing: border-box;padding-bottom: 0.4em;background-color: white;}#sk-container-id-1 div.sk-label label {font-family: monospace;font-weight: bold;display: inline-block;line-height: 1.2em;}#sk-container-id-1 div.sk-label-container {text-align: center;}#sk-container-id-1 div.sk-container {/* jupyter's `normalize.less` sets `[hidden] { display: none; }` but bootstrap.min.css set `[hidden] { display: none !important; }` so we also need the `!important` here to be able to override the default hidden behavior on the sphinx rendered scikit-learn.org. See: https://github.com/scikit-learn/scikit-learn/issues/21755 */display: inline-block !important;position: relative;}#sk-container-id-1 div.sk-text-repr-fallback {display: none;}</style><div id=\"sk-container-id-1\" class=\"sk-top-container\"><div class=\"sk-text-repr-fallback\"><pre>LogisticRegression(max_iter=1500)</pre><b>In a Jupyter environment, please rerun this cell to show the HTML representation or trust the notebook. <br />On GitHub, the HTML representation is unable to render, please try loading this page with nbviewer.org.</b></div><div class=\"sk-container\" hidden><div class=\"sk-item\"><div class=\"sk-estimator sk-toggleable\"><input class=\"sk-toggleable__control sk-hidden--visually\" id=\"sk-estimator-id-1\" type=\"checkbox\" checked><label for=\"sk-estimator-id-1\" class=\"sk-toggleable__label sk-toggleable__label-arrow\">LogisticRegression</label><div class=\"sk-toggleable__content\"><pre>LogisticRegression(max_iter=1500)</pre></div></div></div></div></div>"
      ],
      "text/plain": [
       "LogisticRegression(max_iter=1500)"
      ]
     },
     "execution_count": 18,
     "metadata": {},
     "output_type": "execute_result"
    }
   ],
   "source": [
    "model = LogisticRegression(max_iter=1500)\n",
    "\n",
    "y_train = train_set_y.reshape(-1)\n",
    "model.fit(X_train_norm, y_train)"
   ]
  },
  {
   "cell_type": "code",
   "execution_count": 19,
   "id": "550eb315",
   "metadata": {},
   "outputs": [
    {
     "name": "stdout",
     "output_type": "stream",
     "text": [
      "The model has an accuracy of 100.0% in training data\n",
      "The model has an accuracy of 97.33% in test data\n"
     ]
    }
   ],
   "source": [
    "X_test = test_set_x_flatten.T\n",
    "X_test_norm = norm.fit_transform(X_test)\n",
    "y_test = test_set_y.reshape(-1)\n",
    "\n",
    "print(f'The model has an accuracy of {model.score(X_train_norm, y_train) * 100}% in training data')\n",
    "print(f'The model has an accuracy of {(model.score(X_test_norm, y_test) * 100):.2f}% in test data')"
   ]
  }
 ],
 "metadata": {
  "kernelspec": {
   "display_name": "Python 3 (ipykernel)",
   "language": "python",
   "name": "python3"
  },
  "language_info": {
   "codemirror_mode": {
    "name": "ipython",
    "version": 3
   },
   "file_extension": ".py",
   "mimetype": "text/x-python",
   "name": "python",
   "nbconvert_exporter": "python",
   "pygments_lexer": "ipython3",
   "version": "3.9.13"
  }
 },
 "nbformat": 4,
 "nbformat_minor": 5
}
